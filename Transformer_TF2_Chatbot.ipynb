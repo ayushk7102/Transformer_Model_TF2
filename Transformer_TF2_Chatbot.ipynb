{
  "nbformat": 4,
  "nbformat_minor": 0,
  "metadata": {
    "colab": {
      "name": "Transformer_TF2_Chatbot",
      "provenance": [],
      "collapsed_sections": [],
      "authorship_tag": "ABX9TyPihZeo65v9oj9D6zMRREZS",
      "include_colab_link": true
    },
    "kernelspec": {
      "display_name": "Python 3",
      "name": "python3"
    },
    "language_info": {
      "name": "python"
    },
    "accelerator": "GPU"
  },
  "cells": [
    {
      "cell_type": "markdown",
      "metadata": {
        "id": "view-in-github",
        "colab_type": "text"
      },
      "source": [
        "<a href=\"https://colab.research.google.com/github/ayushk7102/Transformer_Model_TF2/blob/main/Transformer_TF2_Chatbot.ipynb\" target=\"_parent\"><img src=\"https://colab.research.google.com/assets/colab-badge.svg\" alt=\"Open In Colab\"/></a>"
      ]
    },
    {
      "cell_type": "code",
      "metadata": {
        "colab": {
          "base_uri": "https://localhost:8080/"
        },
        "id": "a0-I8pJ2OkKp",
        "outputId": "5972465e-068b-446a-c5fe-71fd8409e439"
      },
      "source": [
        "!pip install tf"
      ],
      "execution_count": 1,
      "outputs": [
        {
          "output_type": "stream",
          "name": "stdout",
          "text": [
            "Collecting tf\n",
            "  Downloading tf-1.0.0.tar.gz (620 bytes)\n",
            "Building wheels for collected packages: tf\n",
            "  Building wheel for tf (setup.py) ... \u001b[?25l\u001b[?25hdone\n",
            "  Created wheel for tf: filename=tf-1.0.0-py3-none-any.whl size=1285 sha256=b7c455fe63dbc286ff5f9e010f029313ebb9f22ae6977a70d8cdbda7cfb34274\n",
            "  Stored in directory: /root/.cache/pip/wheels/db/c7/58/cca67875b41ff853d3fdaa20b54a780ef2e045fbcacaef1ee3\n",
            "Successfully built tf\n",
            "Installing collected packages: tf\n",
            "Successfully installed tf-1.0.0\n"
          ]
        }
      ]
    },
    {
      "cell_type": "code",
      "metadata": {
        "colab": {
          "base_uri": "https://localhost:8080/"
        },
        "id": "7r4CIiJiQAFh",
        "outputId": "b628984c-1cc0-44e5-9cca-b4d16e458c66"
      },
      "source": [
        "import tensorflow as tf; print(tf.__version__)\n",
        "import argparse\n",
        "import os\n",
        "import re\n",
        "import tensorflow_datasets as tfds\n",
        "from tensorflow.keras import layers"
      ],
      "execution_count": 2,
      "outputs": [
        {
          "output_type": "stream",
          "name": "stdout",
          "text": [
            "2.6.0\n"
          ]
        }
      ]
    },
    {
      "cell_type": "markdown",
      "metadata": {
        "id": "ifGtLoUE5EeJ"
      },
      "source": [
        "**Loading dataset, preprocessing**\n",
        "---\n",
        "\n"
      ]
    },
    {
      "cell_type": "code",
      "metadata": {
        "id": "d4a7fTzL19ET"
      },
      "source": [
        "#PREPROCESSING\n",
        "\n",
        "def preprocess_sentence(sentence):\n",
        "  sentence = sentence.lower().strip()\n",
        "\n",
        "  sentence = re.sub(r\"([?.!,])\", r\" \\1 \", sentence)\n",
        "  sentence = re.sub(r'[\" \"]+', \" \", sentence)\n",
        "\n",
        "  sentence = re.sub(r\"i'm\", \"i am\", sentence)\n",
        "  sentence = re.sub(r\"he's\", \"he is\", sentence)\n",
        "  sentence = re.sub(r\"she's\", \"she is\", sentence)\n",
        "  sentence = re.sub(r\"it's\", \"it is\", sentence)\n",
        "  sentence = re.sub(r\"that's\", \"that is\", sentence)\n",
        "  sentence = re.sub(r\"what's\", \"that is\", sentence)\n",
        "  sentence = re.sub(r\"where's\", \"where is\", sentence)\n",
        "  sentence = re.sub(r\"how's\", \"how is\", sentence)\n",
        "  sentence = re.sub(r\"\\'ll\", \" will\", sentence)\n",
        "  sentence = re.sub(r\"\\'ve\", \" have\", sentence)\n",
        "  sentence = re.sub(r\"\\'re\", \" are\", sentence)\n",
        "  sentence = re.sub(r\"\\'d\", \" would\", sentence)\n",
        "  sentence = re.sub(r\"\\'re\", \" are\", sentence)\n",
        "  sentence = re.sub(r\"won't\", \"will not\", sentence)\n",
        "  sentence = re.sub(r\"can't\", \"cannot\", sentence)\n",
        "  sentence = re.sub(r\"n't\", \" not\", sentence)\n",
        "  sentence = re.sub(r\"n'\", \"ng\", sentence)\n",
        "  sentence = re.sub(r\"'bout\", \"about\", sentence)\n",
        "\n",
        "  sentence = re.sub(r\"[^a-zA-Z?.!,]+\", \" \", sentence)\n",
        "  sentence = sentence.strip()\n",
        "  return sentence\n"
      ],
      "execution_count": 3,
      "outputs": []
    },
    {
      "cell_type": "code",
      "metadata": {
        "id": "pPGB96di2ObC"
      },
      "source": [
        "# CHANGE DELIMITER ACC TO DATASET: FOR CORNELL MOVIE DIALOGS,' +++$+++ '\n",
        "\n",
        "def load_conversations(hparams, lines_filename, conversations_filename):\n",
        "  # dictionary of line id to text\n",
        "  id2line = {}\n",
        "  delim = ' +++$+++ '\n",
        "  with open(lines_filename, errors='ignore') as file:\n",
        "    lines = file.readlines()\n",
        "  for line in lines:\n",
        "    parts = line.replace('\\n', '').split(delim)\n",
        "    id2line[parts[0]] = parts[4]\n",
        "\n",
        "  questions, answers = [], []\n",
        "  with open(conversations_filename, 'r') as file:\n",
        "    lines = file.readlines()\n",
        "  for line in lines:\n",
        "    parts = line.replace('\\n', '').split(' +++$+++ ')\n",
        "    # get conversation in a list of line ID\n",
        "    conversation = [line[1:-1] for line in parts[3][1:-1].split(', ')]\n",
        "    for i in range(len(conversation) - 1):\n",
        "      questions.append(preprocess_sentence(id2line[conversation[i]]))\n",
        "      answers.append(preprocess_sentence(id2line[conversation[i + 1]]))\n",
        "      if len(questions) >= hparams.max_samples:\n",
        "        return questions, answers\n",
        "  return questions, answers"
      ],
      "execution_count": 4,
      "outputs": []
    },
    {
      "cell_type": "code",
      "metadata": {
        "id": "6tttaDtb2pMm"
      },
      "source": [
        "\n",
        "def tokenize_and_filter(hparams, tokenizer, questions, answers):\n",
        "  tokenized_questions, tokenized_answers = [], []\n",
        "\n",
        "  for (question, answer) in zip(questions, answers):\n",
        "    # tokenize sentence\n",
        "    sentence1 = hparams.start_token + tokenizer.encode(\n",
        "        question) + hparams.end_token\n",
        "    sentence2 = hparams.start_token + tokenizer.encode(\n",
        "        answer) + hparams.end_token\n",
        "\n",
        "    # check tokenize sentence length\n",
        "    if len(sentence1) <= hparams.max_length and len(\n",
        "        sentence2) <= hparams.max_length:\n",
        "      tokenized_questions.append(sentence1)\n",
        "      tokenized_answers.append(sentence2)\n",
        "\n",
        "  # pad tokenized sentences\n",
        "  tokenized_questions = tf.keras.preprocessing.sequence.pad_sequences(\n",
        "      tokenized_questions, maxlen=hparams.max_length, padding='post')\n",
        "  tokenized_answers = tf.keras.preprocessing.sequence.pad_sequences(\n",
        "      tokenized_answers, maxlen=hparams.max_length, padding='post')\n",
        "\n",
        "  return tokenized_questions, tokenized_answers"
      ],
      "execution_count": 5,
      "outputs": []
    },
    {
      "cell_type": "code",
      "metadata": {
        "id": "FsZnwKWI44E_"
      },
      "source": [
        "\n",
        "def get_dataset(hparams):\n",
        "  # download corpus\n",
        "  path_to_zip = tf.keras.utils.get_file(\n",
        "      'cornell_movie_dialogs.zip',\n",
        "      origin=\n",
        "      'http://www.cs.cornell.edu/~cristian/data/cornell_movie_dialogs_corpus.zip',\n",
        "      extract=True)\n",
        "\n",
        "  path_to_dataset = os.path.join(\n",
        "      os.path.dirname(path_to_zip), \"cornell movie-dialogs corpus\")\n",
        "\n",
        "  # get movie_lines.txt and movive_conversations.txt\n",
        "  lines_filename = os.path.join(path_to_dataset, 'movie_lines.txt')\n",
        "  conversations_filename = os.path.join(path_to_dataset,\n",
        "                                        'movie_conversations.txt')\n",
        "\n",
        "  questions, answers = load_conversations(hparams, lines_filename,\n",
        "                                          conversations_filename)\n",
        "  print('Loaded dataset')\n",
        "  tokenizer = tfds.deprecated.text.SubwordTextEncoder.build_from_corpus(\n",
        "      questions + answers, target_vocab_size=2**13)\n",
        "\n",
        "  hparams.start_token = [tokenizer.vocab_size]\n",
        "  hparams.end_token = [tokenizer.vocab_size + 1]\n",
        "  hparams.vocab_size = tokenizer.vocab_size + 2\n",
        "\n",
        "  questions, answers = tokenize_and_filter(hparams, tokenizer, questions,\n",
        "                                           answers)\n",
        "\n",
        "  dataset = tf.data.Dataset.from_tensor_slices(({\n",
        "      'inputs': questions,\n",
        "      'dec_inputs': answers[:, :-1]\n",
        "  }, answers[:, 1:]))\n",
        "  dataset = dataset.cache()\n",
        "  dataset = dataset.shuffle(len(questions))\n",
        "  dataset = dataset.batch(hparams.batch_size)\n",
        "  dataset = dataset.prefetch(tf.data.experimental.AUTOTUNE)\n",
        "\n",
        "  return dataset, tokenizer"
      ],
      "execution_count": 6,
      "outputs": []
    },
    {
      "cell_type": "markdown",
      "metadata": {
        "id": "lL3P5fd85Wnx"
      },
      "source": [
        "## **Model begins here**\n",
        "\n"
      ]
    },
    {
      "cell_type": "code",
      "metadata": {
        "id": "HpIkFD2DP3ji"
      },
      "source": [
        "def scaled_dot_product_attention(query, key, value, mask):\n",
        "  matmul_qk = tf.matmul(query, key, transpose_b=True)\n",
        "\n",
        "  depth = tf.cast(tf.shape(key)[-1], tf.float32)\n",
        "  logits = matmul_qk / tf.math.sqrt(depth)\n",
        "\n",
        "  # add the mask zero out padding tokens.\n",
        "  if mask is not None:\n",
        "    logits += (mask * -1e9)\n",
        "\n",
        "  attention_weights = tf.nn.softmax(logits, axis=-1)\n",
        "\n",
        "  return tf.matmul(attention_weights, value)"
      ],
      "execution_count": 7,
      "outputs": []
    },
    {
      "cell_type": "code",
      "metadata": {
        "id": "SeytadHcQdAQ"
      },
      "source": [
        "\n",
        "class MultiHeadAttention(layers.Layer):\n",
        "\n",
        "  def __init__(self, hparams, name=\"multi_head_attention\"):\n",
        "    super(MultiHeadAttention, self).__init__(name=name)\n",
        "    self.num_heads = hparams.num_heads\n",
        "    self.d_model = hparams.d_model\n",
        "\n",
        "    assert self.d_model % self.num_heads == 0\n",
        "\n",
        "    self.depth = self.d_model // self.num_heads\n",
        "\n",
        "    self.query_dense = layers.Dense(self.d_model)\n",
        "    self.key_dense = layers.Dense(self.d_model)\n",
        "    self.value_dense = layers.Dense(self.d_model)\n",
        "\n",
        "    self.dense = layers.Dense(self.d_model)\n",
        "\n",
        "  def get_config(self):\n",
        "    config = super(MultiHeadAttention, self).get_config()\n",
        "    config.update({'num_heads': self.num_heads, 'd_model': self.d_model})\n",
        "    return config\n",
        "\n",
        "  def split_heads(self, inputs, batch_size):\n",
        "    inputs = tf.reshape(\n",
        "        inputs, shape=(batch_size, -1, self.num_heads, self.depth))\n",
        "    return tf.transpose(inputs, perm=[0, 2, 1, 3])\n",
        "\n",
        "  def call(self, inputs, **kwargs):\n",
        "    query, key, value, mask = inputs['query'], inputs['key'], inputs[\n",
        "        'value'], inputs['mask']\n",
        "    batch_size = tf.shape(query)[0]\n",
        "\n",
        "    # linear layers\n",
        "    query = self.query_dense(query)\n",
        "    key = self.key_dense(key)\n",
        "    value = self.value_dense(value)\n",
        "\n",
        "    # split heads\n",
        "    query = self.split_heads(query, batch_size)\n",
        "    key = self.split_heads(key, batch_size)\n",
        "    value = self.split_heads(value, batch_size)\n",
        "\n",
        "    # scaled dot-product attention\n",
        "    scaled_attention = scaled_dot_product_attention(query, key, value, mask)\n",
        "    scaled_attention = tf.transpose(scaled_attention, perm=[0, 2, 1, 3])\n",
        "\n",
        "    # concatenation of heads\n",
        "    concat_attention = tf.reshape(scaled_attention,\n",
        "                                  (batch_size, -1, self.d_model))\n",
        "\n",
        "    # final linear layer\n",
        "    outputs = self.dense(concat_attention)\n",
        "\n",
        "    return outputs"
      ],
      "execution_count": 8,
      "outputs": []
    },
    {
      "cell_type": "code",
      "metadata": {
        "id": "8kvuM1Ba5xX_"
      },
      "source": [
        "#CREATE MASKS: Padding and look-ahead\n",
        "\n",
        "def create_padding_mask(x):\n",
        "  mask = tf.cast(tf.math.equal(x, 0), dtype=tf.float32)\n",
        "  return mask[:, tf.newaxis, tf.newaxis, :]\n",
        "\n",
        "def create_look_ahead_mask(x):\n",
        "  seq_len = tf.shape(x)[1]\n",
        "  look_ahead_mask = 1 - tf.linalg.band_part(\n",
        "      tf.ones((seq_len, seq_len), dtype=tf.float32), -1, 0)\n",
        "  padding_mask = create_padding_mask(x)\n",
        "  return tf.maximum(look_ahead_mask, padding_mask)"
      ],
      "execution_count": 9,
      "outputs": []
    },
    {
      "cell_type": "code",
      "metadata": {
        "id": "nt7S9lidTaym"
      },
      "source": [
        "class PositionalEncoding(layers.Layer):\n",
        "\n",
        "  def __init__(self, position, d_model):\n",
        "    super(PositionalEncoding, self).__init__()\n",
        "    self.position = position\n",
        "    self.d_model = d_model\n",
        "    self.pos_encoding = self.positional_encoding(position, d_model)\n",
        "\n",
        "  def get_config(self):\n",
        "    config = super(PositionalEncoding, self).get_config()\n",
        "    config.update({'position': self.position, 'd_model': self.d_model})\n",
        "    return config\n",
        "\n",
        "  def get_angles(self, position, i, d_model):\n",
        "    angles = 1 / tf.pow(10000, (2 * (i // 2)) / d_model)\n",
        "    return position * angles\n",
        "\n",
        "  def positional_encoding(self, position, d_model):\n",
        "    angle_rads = self.get_angles(\n",
        "        position=tf.cast(tf.range(position)[:, tf.newaxis], dtype=tf.float32),\n",
        "        i=tf.cast(tf.range(d_model)[tf.newaxis, :], dtype=tf.float32),\n",
        "        d_model=tf.cast(d_model, dtype=tf.float32))\n",
        "    # apply sin to even index in the array\n",
        "    sines = tf.math.sin(angle_rads[:, 0::2])\n",
        "    # apply cos to odd index in the array\n",
        "    cosines = tf.math.cos(angle_rads[:, 1::2])\n",
        "\n",
        "    pos_encoding = tf.concat([sines, cosines], axis=-1)\n",
        "    pos_encoding = pos_encoding[tf.newaxis, ...]\n",
        "    return pos_encoding\n",
        "\n",
        "  def call(self, inputs, **kwargs):\n",
        "    return inputs + self.pos_encoding[:, :tf.shape(inputs)[1], :]\n",
        "\n"
      ],
      "execution_count": 10,
      "outputs": []
    },
    {
      "cell_type": "code",
      "metadata": {
        "id": "V5AjwamYqQEE"
      },
      "source": [
        "def encoder(hparams, name=\"encoder\"):\n",
        "  print('hparams passed successfully to encoder')\n",
        "\n",
        "  inputs = tf.keras.Input(shape=(None,), name=\"inputs\")\n",
        "  padding_mask = tf.keras.Input(shape=(1, 1, None), name=\"padding_mask\")\n",
        "\n",
        "  embeddings = layers.Embedding(hparams.vocab_size, hparams.d_model)(inputs)\n",
        "  embeddings *= tf.math.sqrt(tf.cast(hparams.d_model, dtype=tf.float32))\n",
        "  embeddings = PositionalEncoding(hparams.vocab_size,\n",
        "                                  hparams.d_model)(embeddings)\n",
        "\n",
        "  outputs = layers.Dropout(hparams.dropout)(embeddings)\n",
        "\n",
        "  for i in range(hparams.num_layers):\n",
        "    outputs = encoder_layer(\n",
        "        hparams,\n",
        "        name=\"encoder_layer_{}\".format(i),\n",
        "    )([outputs, padding_mask])\n",
        "\n",
        "  return tf.keras.Model(\n",
        "      inputs=[inputs, padding_mask], outputs=outputs, name=name)\n",
        "\n"
      ],
      "execution_count": 11,
      "outputs": []
    },
    {
      "cell_type": "code",
      "metadata": {
        "id": "-Y-lVmIJrULH"
      },
      "source": [
        "#tf.keras.utils.plot_model()"
      ],
      "execution_count": 12,
      "outputs": []
    },
    {
      "cell_type": "code",
      "metadata": {
        "id": "W-7JTaO9vYjT"
      },
      "source": [
        ""
      ],
      "execution_count": 12,
      "outputs": []
    },
    {
      "cell_type": "code",
      "metadata": {
        "id": "SATRpAEowxEl"
      },
      "source": [
        "\n",
        "def decoder_layer(hparams, name=\"decoder_layer\"):\n",
        "  inputs = tf.keras.Input(shape=(None, hparams.d_model), name=\"inputs\")\n",
        "  enc_outputs = tf.keras.Input(\n",
        "      shape=(None, hparams.d_model), name=\"encoder_outputs\")\n",
        "  look_ahead_mask = tf.keras.Input(\n",
        "      shape=(1, None, None), name=\"look_ahead_mask\")\n",
        "  padding_mask = tf.keras.Input(shape=(1, 1, None), name='padding_mask')\n",
        "\n",
        "  attention1 = MultiHeadAttention(\n",
        "      hparams, name=\"attention_1\")(inputs={\n",
        "          'query': inputs,\n",
        "          'key': inputs,\n",
        "          'value': inputs,\n",
        "          'mask': look_ahead_mask\n",
        "      })\n",
        "  attention1 += tf.cast(inputs, dtype=tf.float32)\n",
        "  attention1 = layers.LayerNormalization(epsilon=1e-6)(attention1)\n",
        "\n",
        "  attention2 = MultiHeadAttention(\n",
        "      hparams, name=\"attention_2\")(inputs={\n",
        "          'query': attention1,\n",
        "          'key': enc_outputs,\n",
        "          'value': enc_outputs,\n",
        "          'mask': padding_mask\n",
        "      })\n",
        "  attention2 = layers.Dropout(hparams.dropout)(attention2)\n",
        "  attention2 += attention1\n",
        "  attention2 = layers.LayerNormalization(epsilon=1e-6)(attention2 + attention1)\n",
        "\n",
        "  outputs = layers.Dense(\n",
        "      hparams.num_units, activation=hparams.activation)(attention2)\n",
        "  outputs = layers.Dense(hparams.d_model)(outputs)\n",
        "  outputs = layers.Dropout(hparams.dropout)(outputs)\n",
        "  outputs += attention2\n",
        "  outputs = layers.LayerNormalization(epsilon=1e-6)(outputs)\n",
        "\n",
        "  return tf.keras.Model(\n",
        "      inputs=[inputs, enc_outputs, look_ahead_mask, padding_mask],\n",
        "      outputs=outputs,\n",
        "      name=name)"
      ],
      "execution_count": 13,
      "outputs": []
    },
    {
      "cell_type": "code",
      "metadata": {
        "id": "X06-mDSHxwVg"
      },
      "source": [
        "\n",
        "def encoder_layer(hparams, name=\"encoder_layer\"):\n",
        "  inputs = tf.keras.Input(shape=(None, hparams.d_model), name=\"inputs\")\n",
        "  padding_mask = tf.keras.Input(shape=(1, 1, None), name=\"padding_mask\")\n",
        "\n",
        "  attention = MultiHeadAttention(\n",
        "      hparams, name=\"attention\")({\n",
        "          'query': inputs,\n",
        "          'key': inputs,\n",
        "          'value': inputs,\n",
        "          'mask': padding_mask\n",
        "      })\n",
        "  attention = layers.Dropout(hparams.dropout)(attention)\n",
        "  attention += tf.cast(inputs, dtype=tf.float32)\n",
        "  attention = layers.LayerNormalization(epsilon=1e-6)(attention)\n",
        "\n",
        "  outputs = layers.Dense(\n",
        "      hparams.num_units, activation=hparams.activation)(attention)\n",
        "  outputs = layers.Dense(hparams.d_model)(outputs)\n",
        "  outputs = layers.Dropout(hparams.dropout)(outputs)\n",
        "  outputs += attention\n",
        "  outputs = layers.LayerNormalization(epsilon=1e-6)(outputs)\n",
        "\n",
        "  return tf.keras.Model(\n",
        "      inputs=[inputs, padding_mask], outputs=outputs, name=name)\n",
        "\n",
        "def decoder(hparams, name='decoder'):\n",
        "  inputs = tf.keras.Input(shape=(None,), name='inputs')\n",
        "  enc_outputs = tf.keras.Input(\n",
        "      shape=(None, hparams.d_model), name='encoder_outputs')\n",
        "  look_ahead_mask = tf.keras.Input(\n",
        "      shape=(1, None, None), name='look_ahead_mask')\n",
        "  padding_mask = tf.keras.Input(shape=(1, 1, None), name='padding_mask')\n",
        "\n",
        "  embeddings = layers.Embedding(hparams.vocab_size, hparams.d_model)(inputs)\n",
        "  embeddings *= tf.math.sqrt(tf.cast(hparams.d_model, dtype=tf.float32))\n",
        "  embeddings = PositionalEncoding(hparams.vocab_size,\n",
        "                                  hparams.d_model)(embeddings)\n",
        "\n",
        "  outputs = layers.Dropout(hparams.dropout)(embeddings)\n",
        "\n",
        "  for i in range(hparams.num_layers):\n",
        "    outputs = decoder_layer(\n",
        "        hparams,\n",
        "        name='decoder_layer_{}'.format(i),\n",
        "    )(inputs=[outputs, enc_outputs, look_ahead_mask, padding_mask])\n",
        "\n",
        "  return tf.keras.Model(\n",
        "      inputs=[inputs, enc_outputs, look_ahead_mask, padding_mask],\n",
        "      outputs=outputs,\n",
        "      name=name)"
      ],
      "execution_count": 14,
      "outputs": []
    },
    {
      "cell_type": "code",
      "metadata": {
        "id": "B8qpaZG0x49K"
      },
      "source": [
        "def transformer(hparams, name=\"transformer\"):\n",
        "  print('hparams passed successfully to transformer')\n",
        "  inputs = tf.keras.Input(shape=(None,), name=\"inputs\")\n",
        "  dec_inputs = tf.keras.Input(shape=(None,), name=\"dec_inputs\")\n",
        "\n",
        "  enc_padding_mask = layers.Lambda(\n",
        "      create_padding_mask, output_shape=(1, 1, None),\n",
        "      name='enc_padding_mask')(inputs)\n",
        "  # mask the future tokens for decoder inputs at the 1st attention block\n",
        "  look_ahead_mask = layers.Lambda(\n",
        "      create_look_ahead_mask,\n",
        "      output_shape=(1, None, None),\n",
        "      name='look_ahead_mask')(dec_inputs)\n",
        "  # mask the encoder outputs for the 2nd attention block\n",
        "  dec_padding_mask = layers.Lambda(\n",
        "      create_padding_mask, output_shape=(1, 1, None),\n",
        "      name='dec_padding_mask')(inputs)\n",
        "\n",
        "  enc_outputs = encoder(hparams)(inputs=[inputs, enc_padding_mask])\n",
        "\n",
        "  dec_outputs = decoder(hparams)(\n",
        "      inputs=[dec_inputs, enc_outputs, look_ahead_mask, dec_padding_mask])\n",
        "\n",
        "  outputs = layers.Dense(hparams.vocab_size, name=\"outputs\")(dec_outputs)\n",
        "\n",
        "  return tf.keras.Model(inputs=[inputs, dec_inputs], outputs=outputs, name=name)"
      ],
      "execution_count": 15,
      "outputs": []
    },
    {
      "cell_type": "markdown",
      "metadata": {
        "id": "S3rsx6RI9j7o"
      },
      "source": [
        "**DRIVER**"
      ]
    },
    {
      "cell_type": "code",
      "metadata": {
        "id": "2qMpYCTy9nO9"
      },
      "source": [
        "class CustomSchedule(tf.keras.optimizers.schedules.LearningRateSchedule):\n",
        "\n",
        "  def __init__(self, hparams, warmup_steps=4000):\n",
        "    super(CustomSchedule, self).__init__()\n",
        "    self.d_model = tf.cast(hparams.d_model, dtype=tf.float32)\n",
        "    self.warmup_steps = warmup_steps\n",
        "\n",
        "  def __call__(self, step):\n",
        "    arg1 = tf.math.rsqrt(step)\n",
        "    arg2 = step * self.warmup_steps**-1.5\n",
        "    return tf.math.rsqrt(self.d_model) * tf.math.minimum(arg1, arg2)\n"
      ],
      "execution_count": 16,
      "outputs": []
    },
    {
      "cell_type": "code",
      "metadata": {
        "colab": {
          "base_uri": "https://localhost:8080/"
        },
        "id": "q21UwuJ990-d",
        "outputId": "4da780c9-d3df-4311-a9de-c7e721119971"
      },
      "source": [
        "def inference(hparams, model, tokenizer, sentence):\n",
        "  sentence = preprocess_sentence(sentence)\n",
        "\n",
        "  sentence = tf.expand_dims(\n",
        "      hparams.start_token + tokenizer.encode(sentence) + hparams.end_token,\n",
        "      axis=0)\n",
        "\n",
        "  output = tf.expand_dims(hparams.start_token, 0)\n",
        "\n",
        "  for i in range(hparams.max_length):\n",
        "    predictions = model(inputs=[sentence, output], training=False)\n",
        "\n",
        "    # select the last word from the seq_len dimension\n",
        "    predictions = predictions[:, -1:, :]\n",
        "    predicted_id = tf.cast(tf.argmax(predictions, axis=-1), tf.int32)\n",
        "\n",
        "    # return the result if the predicted_id is equal to the end token\n",
        "    if tf.equal(predicted_id, hparams.end_token[0]):\n",
        "      break\n",
        "\n",
        "    # concatenated the predicted_id to the output which is given to the decoder\n",
        "    # as its input.\n",
        "    output = tf.concat([output, predicted_id], axis=-1)\n",
        "\n",
        "  return tf.squeeze(output, axis=0)\n",
        "\n",
        "def predict(hparams, model, tokenizer, sentence):\n",
        "  prediction = inference(hparams, model, tokenizer, sentence)\n",
        "\n",
        "  predicted_sentence = tokenizer.decode(\n",
        "      [i for i in prediction if i < tokenizer.vocab_size])\n",
        "\n",
        "  return predicted_sentence\n",
        "\n",
        "def evaluate(hparams, model, tokenizer):\n",
        "  print('\\nEvaluate')\n",
        "  sentence = 'where have you been?'\n",
        "  output = predict(hparams, model, tokenizer, sentence)\n",
        "  print('input: {}\\noutput: {}'.format(sentence, output))\n",
        "\n",
        "  sentence = \"it's a trap!\"\n",
        "  output = predict(hparams, model, tokenizer, sentence)\n",
        "  print('\\ninput: {}\\noutput: {}'.format(sentence, output))\n",
        "\n",
        "  sentence = 'I am not crazy, my mother had me tested'\n",
        "  for _ in range(5):\n",
        "    output = predict(hparams, model, tokenizer, sentence)\n",
        "    print('\\ninput: {}\\noutput: {}'.format(sentence, output))\n",
        "    sentence = output\n",
        "\n",
        "\n",
        "def main(hparams):\n",
        "  dataset, tokenizer = get_dataset(hparams)\n",
        "  print('hparams : ', hparams)\n",
        "  model = transformer(hparams)\n",
        "\n",
        "  optimizer = tf.keras.optimizers.Adam(\n",
        "      CustomSchedule(hparams), beta_1=0.9, beta_2=0.98, epsilon=1e-9)\n",
        "\n",
        "  cross_entropy = tf.keras.losses.SparseCategoricalCrossentropy(\n",
        "      from_logits=True, reduction='none')\n",
        "\n",
        "  def loss_function(y_true, y_pred):\n",
        "    y_true = tf.reshape(y_true, shape=(-1, hparams.max_length - 1))\n",
        "    loss = cross_entropy(y_true, y_pred)\n",
        "    mask = tf.cast(tf.not_equal(y_true, 0), dtype=tf.float32)\n",
        "    loss = tf.multiply(loss, mask)\n",
        "    return tf.reduce_mean(loss)\n",
        "\n",
        "  def accuracy(y_true, y_pred):\n",
        "    y_true = tf.reshape(y_true, shape=(-1, hparams.max_length - 1))\n",
        "    return tf.keras.metrics.sparse_categorical_accuracy(y_true, y_pred)\n",
        "\n",
        "  model.compile(optimizer, loss=loss_function, metrics=[accuracy])\n",
        "\n",
        "  model.fit(dataset, epochs=hparams.epochs)\n",
        "\n",
        "  evaluate(hparams, model, tokenizer)\n",
        "\n",
        "if __name__ == '__main__':\n",
        "  parser = argparse.ArgumentParser()\n",
        "  parser.add_argument(\n",
        "      '--max_samples',\n",
        "      default=25000,\n",
        "      type=int,\n",
        "      help='maximum number of conversation pairs to use')\n",
        "  parser.add_argument(\n",
        "      '--max_length', default=40, type=int, help='maximum sentence length')\n",
        "  parser.add_argument('--batch_size', default=64, type=int)\n",
        "  parser.add_argument('--num_layers', default=2, type=int)\n",
        "  parser.add_argument('--num_units', default=512, type=\n",
        "int)\n",
        "  parser.add_argument('--d_model', default=256, type=int)\n",
        "  parser.add_argument('--num_heads', default=8, type=int)\n",
        "  parser.add_argument('--dropout', default=0.1, type=float)\n",
        "  parser.add_argument('--activation', default='relu', type=str)\n",
        "  parser.add_argument('--epochs', default=250, type=int)\n",
        "  print('reached here')\n",
        "  #hparams = parser.parse_args()\n",
        "  hparams, unknown = parser.parse_known_args()\n",
        "  main(hparams)\n",
        "\n",
        "\n"
      ],
      "execution_count": null,
      "outputs": [
        {
          "output_type": "stream",
          "name": "stdout",
          "text": [
            "reached here\n",
            "Loaded dataset\n",
            "hparams :  Namespace(activation='relu', batch_size=64, d_model=256, dropout=0.1, end_token=[8102], epochs=250, max_length=40, max_samples=25000, num_heads=8, num_layers=2, num_units=512, start_token=[8101], vocab_size=8103)\n",
            "hparams passed successfully to transformer\n",
            "hparams passed successfully to encoder\n",
            "Epoch 1/250\n",
            "346/346 [==============================] - 48s 115ms/step - loss: 2.4697 - accuracy: 0.0247\n",
            "Epoch 2/250\n",
            "346/346 [==============================] - 40s 115ms/step - loss: 1.7551 - accuracy: 0.0608\n",
            "Epoch 3/250\n",
            "346/346 [==============================] - 40s 115ms/step - loss: 1.5322 - accuracy: 0.0764\n",
            "Epoch 4/250\n",
            "346/346 [==============================] - 40s 115ms/step - loss: 1.4405 - accuracy: 0.0824\n",
            "Epoch 5/250\n",
            "346/346 [==============================] - 40s 115ms/step - loss: 1.3781 - accuracy: 0.0867\n",
            "Epoch 6/250\n",
            "346/346 [==============================] - 40s 115ms/step - loss: 1.3215 - accuracy: 0.0915\n",
            "Epoch 7/250\n",
            "346/346 [==============================] - 40s 115ms/step - loss: 1.2647 - accuracy: 0.0968\n",
            "Epoch 8/250\n",
            "346/346 [==============================] - 40s 115ms/step - loss: 1.2019 - accuracy: 0.1033\n",
            "Epoch 9/250\n",
            "346/346 [==============================] - 40s 115ms/step - loss: 1.1360 - accuracy: 0.1098\n",
            "Epoch 10/250\n",
            "346/346 [==============================] - 40s 115ms/step - loss: 1.0682 - accuracy: 0.1163\n",
            "Epoch 11/250\n",
            "346/346 [==============================] - 40s 115ms/step - loss: 0.9979 - accuracy: 0.1243\n",
            "Epoch 12/250\n",
            "346/346 [==============================] - 40s 115ms/step - loss: 0.9309 - accuracy: 0.1320\n",
            "Epoch 13/250\n",
            "346/346 [==============================] - 40s 115ms/step - loss: 0.8462 - accuracy: 0.1434\n",
            "Epoch 14/250\n",
            "346/346 [==============================] - 40s 115ms/step - loss: 0.7589 - accuracy: 0.1561\n",
            "Epoch 15/250\n",
            "346/346 [==============================] - 40s 115ms/step - loss: 0.6791 - accuracy: 0.1694\n",
            "Epoch 16/250\n",
            "346/346 [==============================] - 40s 115ms/step - loss: 0.6072 - accuracy: 0.1814\n",
            "Epoch 17/250\n",
            "346/346 [==============================] - 40s 115ms/step - loss: 0.5436 - accuracy: 0.1937\n",
            "Epoch 18/250\n",
            "346/346 [==============================] - 40s 115ms/step - loss: 0.4901 - accuracy: 0.2038\n",
            "Epoch 19/250\n",
            "346/346 [==============================] - 40s 115ms/step - loss: 0.4441 - accuracy: 0.2132\n",
            "Epoch 20/250\n",
            "346/346 [==============================] - 40s 115ms/step - loss: 0.4053 - accuracy: 0.2208\n",
            "Epoch 21/250\n",
            "346/346 [==============================] - 40s 115ms/step - loss: 0.3710 - accuracy: 0.2286\n",
            "Epoch 22/250\n",
            "346/346 [==============================] - 40s 115ms/step - loss: 0.3427 - accuracy: 0.2347\n",
            "Epoch 23/250\n",
            "346/346 [==============================] - 40s 115ms/step - loss: 0.3178 - accuracy: 0.2399\n",
            "Epoch 24/250\n",
            "346/346 [==============================] - 40s 115ms/step - loss: 0.2938 - accuracy: 0.2457\n",
            "Epoch 25/250\n",
            "346/346 [==============================] - 40s 115ms/step - loss: 0.2757 - accuracy: 0.2502\n",
            "Epoch 26/250\n",
            "154/346 [============>.................] - ETA: 22s - loss: 0.2297 - accuracy: 0.2614"
          ]
        }
      ]
    },
    {
      "cell_type": "code",
      "metadata": {
        "id": "l9ak208Kb92X"
      },
      "source": [
        "output = predict(hparams, model, tokenizer, sentence)\n",
        "print('\\ninput: {}\\noutput: {}'.format(sentence, output))\n",
        "sentence = output\n"
      ],
      "execution_count": null,
      "outputs": []
    },
    {
      "cell_type": "code",
      "metadata": {
        "id": "WfOShgS7yFY-"
      },
      "source": [
        "NUM_LAYERS = 2\n",
        "D_MODEL = 256\n",
        "NUM_HEADS = 8\n",
        "UNITS = 512\n",
        "DROPOUT = 0.1\n",
        "\n",
        "VOCAB_SIZE = 220000"
      ],
      "execution_count": null,
      "outputs": []
    },
    {
      "cell_type": "code",
      "metadata": {
        "id": "3RNkL_qvyIn-"
      },
      "source": [
        "model = transformer(\n",
        "    vocab_size=VOCAB_SIZE,\n",
        "    num_layers=NUM_LAYERS,\n",
        "    units=UNITS,\n",
        "    d_model=D_MODEL,\n",
        "    num_heads=NUM_HEADS,\n",
        "    dropout=DROPOUT)"
      ],
      "execution_count": null,
      "outputs": []
    },
    {
      "cell_type": "code",
      "metadata": {
        "id": "qN7qC0_izWWk"
      },
      "source": [
        "def loss_function(y_true, y_pred):\n",
        "  y_true = tf.reshape(y_true, shape=(-1, MAX_LENGTH - 1))\n",
        "  \n",
        "  loss = tf.keras.losses.SparseCategoricalCrossentropy(\n",
        "      from_logits=True, reduction='none')(y_true, y_pred)\n",
        "\n",
        "  mask = tf.cast(tf.not_equal(y_true, 0), tf.float32)\n",
        "  loss = tf.multiply(loss, mask)\n",
        "\n",
        "  return tf.reduce_mean(loss)\n",
        "\n",
        "class CustomSchedule(tf.keras.optimizers.schedules.LearningRateSchedule):\n",
        "\n",
        "  def __init__(self, d_model, warmup_steps=4000):\n",
        "    super(CustomSchedule, self).__init__()\n",
        "\n",
        "    self.d_model = d_model\n",
        "    self.d_model = tf.cast(self.d_model, tf.float32)\n",
        "\n",
        "    self.warmup_steps = warmup_steps\n",
        "\n",
        "  def __call__(self, step):\n",
        "    arg1 = tf.math.rsqrt(step)\n",
        "    arg2 = step * (self.warmup_steps**-1.5)\n",
        "\n",
        "    return tf.math.rsqrt(self.d_model) * tf.math.minimum(arg1, arg2)\n",
        "\n",
        "learning_rate = CustomSchedule(D_MODEL)\n",
        "\n",
        "optimizer = tf.keras.optimizers.Adam(\n",
        "    learning_rate, beta_1=0.9, beta_2=0.98, epsilon=1e-9)\n",
        "\n",
        "def accuracy(y_true, y_pred):\n",
        "  # ensure labels have shape (batch_size, MAX_LENGTH - 1)\n",
        "  y_true = tf.reshape(y_true, shape=(-1, MAX_LENGTH - 1))\n",
        "  accuracy = tf.metrics.SparseCategoricalAccuracy()(y_true, y_pred)\n",
        "  return accuracy\n",
        "\n",
        "model.compile(optimizer=optimizer, loss=loss_function, metrics=[accuracy])\n",
        "\n",
        "EPOCHS = 20\n",
        "\n",
        "model.fit(dataset, epochs=EPOCHS)"
      ],
      "execution_count": null,
      "outputs": []
    },
    {
      "cell_type": "code",
      "metadata": {
        "id": "jVbdmo34ziR6"
      },
      "source": [
        "\n",
        "def evaluate(sentence):\n",
        "  sentence = preprocess_sentence(sentence)\n",
        "\n",
        "  sentence = tf.expand_dims(\n",
        "      START_TOKEN + tokenizer.encode(sentence) + END_TOKEN, axis=0)\n",
        "\n",
        "  output = tf.expand_dims(START_TOKEN, 0)\n",
        "\n",
        "  for i in range(MAX_LENGTH):\n",
        "    predictions = model(inputs=[sentence, output], training=False)\n",
        "\n",
        "    # select the last word from the seq_len dimension\n",
        "    predictions = predictions[:, -1:, :]\n",
        "    predicted_id = tf.cast(tf.argmax(predictions, axis=-1), tf.int32)\n",
        "\n",
        "    # return the result if the predicted_id is equal to the end token\n",
        "    if tf.equal(predicted_id, END_TOKEN[0]):\n",
        "      break\n",
        "\n",
        "    # concatenated the predicted_id to the output which is given to the decoder as its input.\n",
        "    output = tf.concat([output, predicted_id], axis=-1)\n",
        "\n",
        "  return tf.squeeze(output, axis=0)\n",
        "\n",
        "def predict(sentence):\n",
        "  prediction = evaluate(sentence)\n",
        "  predicted_sentence = tokenizer.decode([i for i in prediction if i < tokenizer.vocab_size])\n",
        "  return predicted_sentence\n"
      ],
      "execution_count": null,
      "outputs": []
    }
  ]
}